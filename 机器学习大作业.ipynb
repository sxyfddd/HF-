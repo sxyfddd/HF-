{
 "cells": [
  {
   "cell_type": "markdown",
   "id": "56af833c",
   "metadata": {
    "papermill": {
     "duration": 0.005992,
     "end_time": "2024-05-14T02:50:39.702935",
     "exception": false,
     "start_time": "2024-05-14T02:50:39.696943",
     "status": "completed"
    },
    "tags": []
   },
   "source": [
    "# TensorFlow决策森林\n",
    "\n",
    "TensorFlow决策森林（TF-DF）是一个用于训练、评估、解释和推理决策森林模型的库。\n",
    "决策森林（DF）是一类用于监督分类、回归和排序的机器学习算法。顾名思义，它使用决策树作为构建块。如今，两种最流行的DF训练算法是随机森林和梯度增强决策树。\n"
   ]
  },
  {
   "cell_type": "markdown",
   "id": "af98c678-ec26-4f13-a65f-f1133e813edb",
   "metadata": {},
   "source": [
    "我们进行的具体操作步骤如下：\n",
    "- "
   ]
  },
  {
   "cell_type": "markdown",
   "id": "d891d173",
   "metadata": {
    "papermill": {
     "duration": 0.005158,
     "end_time": "2024-05-14T02:50:39.714176",
     "exception": false,
     "start_time": "2024-05-14T02:50:39.709018",
     "status": "completed"
    },
    "tags": []
   },
   "source": [
    "## 1. 设置"
   ]
  },
  {
   "cell_type": "markdown",
   "id": "591c4d4e-6c58-4b4c-a59d-cf9f590ae30a",
   "metadata": {},
   "source": [
    "- 首先，让我们确保这个笔记本在Python2和Python3中都能正常工作，导入一些常用模块："
   ]
  },
  {
   "cell_type": "code",
   "execution_count": 1,
   "id": "7c554f89-ace1-48f2-a903-490a176d19b0",
   "metadata": {},
   "outputs": [],
   "source": [
    "!pip install tensorflow_decision_forests -q\n",
    "!pip install wurlitzer -q"
   ]
  },
  {
   "cell_type": "code",
   "execution_count": 2,
   "id": "6f9ff486",
   "metadata": {
    "_cell_guid": "b1076dfc-b9ad-4769-8c92-a6c4dae69d19",
    "_uuid": "8f2839f25d086af736a60e9eeb907d3b93b6e0e5",
    "papermill": {
     "duration": 17.224159,
     "end_time": "2024-05-14T02:51:26.171397",
     "exception": false,
     "start_time": "2024-05-14T02:51:08.947238",
     "status": "completed"
    },
    "tags": []
   },
   "outputs": [],
   "source": [
    "# 导入库\n",
    "import numpy as np\n",
    "import pandas as pd\n",
    "import matplotlib.pyplot as plt\n",
    "import warnings\n",
    "from sklearn.ensemble import RandomForestClassifier, GradientBoostingClassifier\n",
    "from sklearn.tree import DecisionTreeClassifier\n",
    "from sklearn.preprocessing import LabelEncoder\n",
    "from sklearn.metrics import accuracy_score\n",
    "from sklearn.model_selection import train_test_split\n",
    "from sklearn.tree import DecisionTreeClassifier, export_text\n",
    "\n",
    "import graphviz\n",
    "# 设置\n",
    "\n",
    "# 设置\n",
    "warnings.simplefilter('ignore')\n"
   ]
  },
  {
   "cell_type": "markdown",
   "id": "38c9b160-1288-4a4e-8802-4b59054821c8",
   "metadata": {},
   "source": [
    "- numpy: 数值计算库，常用于数组和矩阵操作。\n",
    "- pandas: 数据处理和分析库，提供了数据结构和数据分析工具。\n",
    "- matplotlib.pyplot: 数据可视化库，用于绘制图表。\n",
    "- warnings: 用于控制警告信息的显示。\n",
    "- sklearn.ensemble: 包含集成方法，如随机森林 (RandomForestClassifier) 和梯度提升树 (GradientBoostingClassifier)。\n",
    "- sklearn.tree: 包含决策树 (DecisionTreeClassifier) 和其他树相关的工具，如 export_text。\n",
    "- sklearn.preprocessing: 数据预处理模块，这里用到的是标签编码 (LabelEncoder)。\n",
    "- sklearn.metrics: 评估模型性能的模块，这里用到的是准确率 (accuracy_score)。\n",
    "- graphviz: 用于绘制图形，特别是决策树的可视化。\n",
    "- warnings.simplefilter('ignore'): 忽略所有警告信息。这通常用于清理输出，使得输出更加简洁，但在开发和调试过程中，建议开启警告以便捕捉潜在问题。\n",
    "这个设置通常在数据科学和机器学习项目的初期进行，以确保所需的库都已经导入，并且可以忽略不相关的警告，从而专注于核心任务。后续的代码中，您可能会看到数据加载、预处理、模型训练和评估等步骤。这里也使用了多种分类器（如决策树、随机森林和梯度提升树），并且有工具用于可视化决策树。"
   ]
  },
  {
   "cell_type": "markdown",
   "id": "1b75c381",
   "metadata": {
    "papermill": {
     "duration": 0.005526,
     "end_time": "2024-05-14T02:51:26.182932",
     "exception": false,
     "start_time": "2024-05-14T02:51:26.177406",
     "status": "completed"
    },
    "tags": []
   },
   "source": [
    "## 2. 获得数据"
   ]
  },
  {
   "cell_type": "markdown",
   "id": "52c482c7-86a7-4bb9-9a45-da85641db779",
   "metadata": {},
   "source": [
    "### 2.1 创建工作区"
   ]
  },
  {
   "cell_type": "markdown",
   "id": "1a40ce28-2cf5-41ac-bcb4-436d98dde034",
   "metadata": {},
   "source": [
    "- 首先需要安装python，没有的可以百度\n",
    "- 接下来需要为代码创建工作区，又或者创建一个隔离环境（推荐 anaconda）\n",
    "- 安装需要的包 如Numpy,Pandas,Matplotlib,Scikit-learn等\n",
    "- 运行jupyterter"
   ]
  },
  {
   "cell_type": "markdown",
   "id": "f76e2fbc-0b88-4abd-8844-eed776f02589",
   "metadata": {},
   "source": [
    "### 2.2 读取数据文件"
   ]
  },
  {
   "cell_type": "markdown",
   "id": "829fd4cd-a9ff-4604-920a-6624cc47c41c",
   "metadata": {},
   "source": [
    "- 给定数据文件路径；\r\n",
    "- 使用 pd.read_csv 函数读取 CSV 文件，将数据加载到 train 和 test 数据帧中；\r\n",
    "- 使用 dropna 方法删除数据中的缺失值，确保数据的完整性。\r\n",
    "- 使用 reset_index 方法重置数据帧的索引，并设置 drop=True 以避免将旧索引添加为新的列。\r\n",
    "- 打印训练数据和测试数据的大小（行数和列数）。使用 head 方法显示训练数据的前几行，以便快速查看数据的结构和内容。以便快速查看数据的结构和内容。"
   ]
  },
  {
   "cell_type": "code",
   "execution_count": 3,
   "id": "9c4ec4e5-a44b-4cb7-ae4b-0e48287565a9",
   "metadata": {
    "papermill": {
     "duration": 0.218438,
     "end_time": "2024-05-14T02:51:26.407015",
     "exception": false,
     "start_time": "2024-05-14T02:51:26.188577",
     "status": "completed"
    },
    "tags": []
   },
   "outputs": [
    {
     "name": "stdout",
     "output_type": "stream",
     "text": [
      "Train Size: (30072, 11)\n",
      "Test Size: (7516, 11)\n",
      "\n",
      "\n",
      "  Experimentation Academic_Performance_Decline Social_Isolation  \\\n",
      "0             Yes                           No               No   \n",
      "1              No                           No               No   \n",
      "2             Yes                           No              Yes   \n",
      "3             Yes                          Yes               No   \n",
      "4              No                           No               No   \n",
      "\n",
      "  Financial_Issues Physical_Mental_Health_Problems Legal_Consequences  \\\n",
      "0              Yes                              No                 No   \n",
      "1               No                              No                Yes   \n",
      "2              Yes                              No                Yes   \n",
      "3               No                              No                Yes   \n",
      "4              Yes                             Yes                Yes   \n",
      "\n",
      "  Relationship_Strain Risk_Taking_Behavior Withdrawal_Symptoms  \\\n",
      "0                  No                  Yes                  No   \n",
      "1                 Yes                  Yes                  No   \n",
      "2                  No                   No                  No   \n",
      "3                 Yes                  Yes                  No   \n",
      "4                 Yes                  Yes                  No   \n",
      "\n",
      "  Denial_and_Resistance_to_Treatment Addiction_Class  \n",
      "0                                 No              No  \n",
      "1                                 No              No  \n",
      "2                                Yes             Yes  \n",
      "3                                 No              No  \n",
      "4                                Yes              No  \n"
     ]
    }
   ],
   "source": [
    "# 数据文件路径\n",
    "train_file = 'C:/Users/xu/Desktop/student_addiction_dataset_train.csv'\n",
    "test_file = 'C:/Users/xu/Desktop/student_addiction_dataset_test.csv'\n",
    "\n",
    "# 读取数据文件\n",
    "train = pd.read_csv(train_file)\n",
    "test = pd.read_csv(test_file)\n",
    "\n",
    "# 删除缺失值\n",
    "train.dropna(inplace=True)\n",
    "test.dropna(inplace=True)\n",
    "\n",
    "# 重置索引\n",
    "train.reset_index(drop=True, inplace=True)\n",
    "test.reset_index(drop=True, inplace=True)\n",
    "\n",
    "# 查看数据大小\n",
    "print(f\"Train Size: {train.shape}\\nTest Size: {test.shape}\\n\\n\")\n",
    "print(train.head())"
   ]
  },
  {
   "cell_type": "markdown",
   "id": "158ec5b2-46a9-4f2d-90b9-11538412b745",
   "metadata": {},
   "source": [
    "### 给定的数据显示了某种行为或状况（例如成瘾）的多个因素和分类。这些因素可以用来预测或分析成瘾的类别（Addiction_Class）。以下是对数据集的详细分析：\n",
    "\n",
    "数据集大小\n",
    "- 训练集：30072 行，11 列\n",
    "- 测试集：7516 行，11 列\n",
    "数据示例\n",
    "- 数据的每一行代表一个个体的多个特征，这些特征用来描述他们的状况，并最终标记他们是否属于某种成瘾类别 (Addiction_Class)。\n",
    "\n",
    "特征描述\n",
    "- 数据集中包含的特征（列）描述如下：\n",
    "\n",
    "- Experimentation: 是否有过实验性使用（如尝试过某种物质）。\n",
    "- Academic_Performance_Decline: 是否有学业成绩下降的情况。\n",
    "- Social_Isolation: 是否存在社交隔离的情况。\n",
    "- Financial_Issues: 是否存在经济问题。\n",
    "- Physical_Mental_Health_Problems: 是否存在身体或心理健康问题。\n",
    "- Legal_Consequences: 是否有法律后果。\n",
    "- Relationship_Strain: 是否存在关系紧张。\n",
    "- Risk_Taking_Behavior: 是否有冒险行为。\n",
    "- Withdrawal_Symptoms: 是否有戒断症状。\n",
    "- Denial_and_Resistance_to_Treatment: 是否否认和抵制治疗。\n",
    "- Addiction_Class: 是否属于某种成瘾类别（目标变量）。\n",
    "数据值分析\n",
    "每个特征值的范围如下：\n",
    "\n",
    "- Experimentation, Academic_Performance_Decline, Social_Isolation, Financial_Issues, Physical_Mental_Health_Problems, Legal_Consequences, Relationship_Strain, Risk_Taking_Behavior, Withdrawal_Symptoms, Denial_and_Resistance_to_Treatment: 这些特征均为分类变量（是/否）。\n",
    "- Addiction_Class: 目标变量，表示是否属于某种成瘾类别（是/否）。"
   ]
  },
  {
   "cell_type": "markdown",
   "id": "03bffc0c",
   "metadata": {
    "papermill": {
     "duration": 0.00624,
     "end_time": "2024-05-14T02:51:26.419378",
     "exception": false,
     "start_time": "2024-05-14T02:51:26.413138",
     "status": "completed"
    },
    "tags": []
   },
   "source": [
    "### 2.3 数据预处理"
   ]
  },
  {
   "cell_type": "markdown",
   "id": "1b2b48a8-2a83-4c76-a1dd-9d7d6603e858",
   "metadata": {},
   "source": [
    "- 定义目标列的名称为 'Addiction_Class'，表明我们要预测的分类目标。\n",
    "- 获取目标列中所有唯一的分类，并将它们转换为列表形式。\n",
    "- 通过 print 函数输出这些分类。train[target].unique() 返回目标列的唯一值，.tolist() 方法将唯一值转换为列表。\r",
    "- 使用 LabelEncoder 对数据集中的所有列进行标签编码。LabelEncoder 是一个用于将分类文本数据转换为数字编码的工具。\n",
    "- 通过 zip(train.columns, test.columns) 迭代 train 和 test 数据集的列名，对每一列分别进行 fit_transform 操作，这样可以将每一列的分类值转换为数值。。"
   ]
  },
  {
   "cell_type": "code",
   "execution_count": 19,
   "id": "4176e79c",
   "metadata": {
    "papermill": {
     "duration": 0.130949,
     "end_time": "2024-05-14T02:51:26.556536",
     "exception": false,
     "start_time": "2024-05-14T02:51:26.425587",
     "status": "completed"
    },
    "tags": []
   },
   "outputs": [
    {
     "name": "stdout",
     "output_type": "stream",
     "text": [
      "Target Classes: [0, 1]\n",
      "\n"
     ]
    },
    {
     "data": {
      "text/html": [
       "<div>\n",
       "<style scoped>\n",
       "    .dataframe tbody tr th:only-of-type {\n",
       "        vertical-align: middle;\n",
       "    }\n",
       "\n",
       "    .dataframe tbody tr th {\n",
       "        vertical-align: top;\n",
       "    }\n",
       "\n",
       "    .dataframe thead th {\n",
       "        text-align: right;\n",
       "    }\n",
       "</style>\n",
       "<table border=\"1\" class=\"dataframe\">\n",
       "  <thead>\n",
       "    <tr style=\"text-align: right;\">\n",
       "      <th></th>\n",
       "      <th>Experimentation</th>\n",
       "      <th>Academic_Performance_Decline</th>\n",
       "      <th>Social_Isolation</th>\n",
       "      <th>Financial_Issues</th>\n",
       "      <th>Physical_Mental_Health_Problems</th>\n",
       "      <th>Legal_Consequences</th>\n",
       "      <th>Relationship_Strain</th>\n",
       "      <th>Risk_Taking_Behavior</th>\n",
       "      <th>Withdrawal_Symptoms</th>\n",
       "      <th>Denial_and_Resistance_to_Treatment</th>\n",
       "      <th>Addiction_Class</th>\n",
       "    </tr>\n",
       "  </thead>\n",
       "  <tbody>\n",
       "    <tr>\n",
       "      <th>0</th>\n",
       "      <td>1</td>\n",
       "      <td>0</td>\n",
       "      <td>0</td>\n",
       "      <td>1</td>\n",
       "      <td>0</td>\n",
       "      <td>0</td>\n",
       "      <td>0</td>\n",
       "      <td>1</td>\n",
       "      <td>0</td>\n",
       "      <td>0</td>\n",
       "      <td>0</td>\n",
       "    </tr>\n",
       "    <tr>\n",
       "      <th>1</th>\n",
       "      <td>0</td>\n",
       "      <td>0</td>\n",
       "      <td>0</td>\n",
       "      <td>0</td>\n",
       "      <td>0</td>\n",
       "      <td>1</td>\n",
       "      <td>1</td>\n",
       "      <td>1</td>\n",
       "      <td>0</td>\n",
       "      <td>0</td>\n",
       "      <td>0</td>\n",
       "    </tr>\n",
       "    <tr>\n",
       "      <th>2</th>\n",
       "      <td>1</td>\n",
       "      <td>0</td>\n",
       "      <td>1</td>\n",
       "      <td>1</td>\n",
       "      <td>0</td>\n",
       "      <td>1</td>\n",
       "      <td>0</td>\n",
       "      <td>0</td>\n",
       "      <td>0</td>\n",
       "      <td>1</td>\n",
       "      <td>1</td>\n",
       "    </tr>\n",
       "    <tr>\n",
       "      <th>3</th>\n",
       "      <td>1</td>\n",
       "      <td>1</td>\n",
       "      <td>0</td>\n",
       "      <td>0</td>\n",
       "      <td>0</td>\n",
       "      <td>1</td>\n",
       "      <td>1</td>\n",
       "      <td>1</td>\n",
       "      <td>0</td>\n",
       "      <td>0</td>\n",
       "      <td>0</td>\n",
       "    </tr>\n",
       "    <tr>\n",
       "      <th>4</th>\n",
       "      <td>0</td>\n",
       "      <td>0</td>\n",
       "      <td>0</td>\n",
       "      <td>1</td>\n",
       "      <td>1</td>\n",
       "      <td>1</td>\n",
       "      <td>1</td>\n",
       "      <td>1</td>\n",
       "      <td>0</td>\n",
       "      <td>1</td>\n",
       "      <td>0</td>\n",
       "    </tr>\n",
       "  </tbody>\n",
       "</table>\n",
       "</div>"
      ],
      "text/plain": [
       "   Experimentation  Academic_Performance_Decline  Social_Isolation  \\\n",
       "0                1                             0                 0   \n",
       "1                0                             0                 0   \n",
       "2                1                             0                 1   \n",
       "3                1                             1                 0   \n",
       "4                0                             0                 0   \n",
       "\n",
       "   Financial_Issues  Physical_Mental_Health_Problems  Legal_Consequences  \\\n",
       "0                 1                                0                   0   \n",
       "1                 0                                0                   1   \n",
       "2                 1                                0                   1   \n",
       "3                 0                                0                   1   \n",
       "4                 1                                1                   1   \n",
       "\n",
       "   Relationship_Strain  Risk_Taking_Behavior  Withdrawal_Symptoms  \\\n",
       "0                    0                     1                    0   \n",
       "1                    1                     1                    0   \n",
       "2                    0                     0                    0   \n",
       "3                    1                     1                    0   \n",
       "4                    1                     1                    0   \n",
       "\n",
       "   Denial_and_Resistance_to_Treatment  Addiction_Class  \n",
       "0                                   0                0  \n",
       "1                                   0                0  \n",
       "2                                   1                1  \n",
       "3                                   0                0  \n",
       "4                                   1                0  "
      ]
     },
     "execution_count": 19,
     "metadata": {},
     "output_type": "execute_result"
    }
   ],
   "source": [
    "# target column\n",
    "target = 'Addiction_Class'\n",
    "\n",
    "# target classes\n",
    "target_classes = train[target].unique().tolist()\n",
    "print(f\"Target Classes: {target_classes}\\n\")\n",
    "\n",
    "\n",
    "# 假设在初始阶段有一个特征名称列表\n",
    "feature_names = list(train.drop(columns=[target]).columns)\n",
    "\n",
    "# label encode the column-data\n",
    "le = LabelEncoder()\n",
    "for tr,te in zip(train.columns,test.columns):\n",
    "    train[tr] = le.fit_transform(train[tr])\n",
    "    test[te] = le.fit_transform(test[te])\n",
    "    \n",
    "# view\n",
    "train.head()"
   ]
  },
  {
   "cell_type": "markdown",
   "id": "881d0021-da5c-4660-b509-5e4d48ee535b",
   "metadata": {},
   "source": [
    "上述数据包含了每个样本的特征和目标类别（Addiction_Class），其中特征和目标类别的值均为二进制（0或1）。以下是对数据的详细分析：\n",
    "\n",
    "- 目标类别\n",
    "目标类别有两个值：\n",
    "\n",
    "- 0: 表示未成瘾（No）\n",
    "- 1: 表示成瘾（Yes）\n",
    "特征描述\n",
    "- 每一列特征的值都是0或1，具体含义如下：\n",
    "\n",
    "- Experimentation: 1表示有过实验性使用，0表示没有。\n",
    "- Academic_Performance_Decline: 1表示有学业成绩下降，0表示没有。\n",
    "- Social_Isolation: 1表示存在社交隔离，0表示没有。\n",
    "- Financial_Issues: 1表示存在经济问题，0表示没有。\n",
    "- Physical_Mental_Health_Problems: 1表示存在身体或心理健康问题，0表示没有。\n",
    "- Legal_Consequences: 1表示有法律后果，0表示没有。\n",
    "- Relationship_Strain: 1表示存在关系紧张，0表示没有。\n",
    "- Risk_Taking_Behavior: 1表示有冒险行为，0表示没有。\n",
    "- Withdrawal_Symptoms: 1表示有戒断症状，0表示没有。\n",
    "- Denial_and_Resistance_to_Treatment: 1表示否认和抵制治疗，0表示没有。\n",
    "- Addiction_Class: 1表示成瘾，0表示未成瘾（目标变量）。\n",
    "数据分析\n",
    "- 每个样本（行）代表一个个体的多个特征，目标是预测其是否成瘾（Addiction_Class）。"
   ]
  },
  {
   "cell_type": "markdown",
   "id": "8afeae90-3181-42f6-94a9-0b75258d266d",
   "metadata": {},
   "source": [
    "- 通过 train.head() 查看编码后的数据集。\n",
    "- 处理之后，数据集中的分类数据都被转换为数值，为后续的机器学习算法处理做准备。"
   ]
  },
  {
   "cell_type": "code",
   "execution_count": 5,
   "id": "020d52c7-518f-4644-840d-56335a96082c",
   "metadata": {},
   "outputs": [
    {
     "name": "stdout",
     "output_type": "stream",
     "text": [
      "   Experimentation  Academic_Performance_Decline  Social_Isolation  \\\n",
      "0                1                             0                 0   \n",
      "1                0                             0                 0   \n",
      "2                1                             0                 1   \n",
      "3                1                             1                 0   \n",
      "4                0                             0                 0   \n",
      "\n",
      "   Financial_Issues  Physical_Mental_Health_Problems  Legal_Consequences  \\\n",
      "0                 1                                0                   0   \n",
      "1                 0                                0                   1   \n",
      "2                 1                                0                   1   \n",
      "3                 0                                0                   1   \n",
      "4                 1                                1                   1   \n",
      "\n",
      "   Relationship_Strain  Risk_Taking_Behavior  Withdrawal_Symptoms  \\\n",
      "0                    0                     1                    0   \n",
      "1                    1                     1                    0   \n",
      "2                    0                     0                    0   \n",
      "3                    1                     1                    0   \n",
      "4                    1                     1                    0   \n",
      "\n",
      "   Denial_and_Resistance_to_Treatment  Addiction_Class  \n",
      "0                                   0                0  \n",
      "1                                   0                0  \n",
      "2                                   1                1  \n",
      "3                                   0                0  \n",
      "4                                   1                0  \n"
     ]
    }
   ],
   "source": [
    "# 查看处理后的数据\n",
    "print(train.head())"
   ]
  },
  {
   "cell_type": "markdown",
   "id": "4d750b42",
   "metadata": {
    "papermill": {
     "duration": 0.0072,
     "end_time": "2024-05-14T02:51:26.570597",
     "exception": false,
     "start_time": "2024-05-14T02:51:26.563397",
     "status": "completed"
    },
    "tags": []
   },
   "source": [
    "### 2.4 转换为TF数据集"
   ]
  },
  {
   "cell_type": "markdown",
   "id": "a189dc00-392f-47fa-af5f-086ccee61835",
   "metadata": {},
   "source": [
    "- 定义函数将数据转换为 TensorFlow 数据集；\n",
    "- 将训练集和测试集的数据分为特征和标签。X_train 和 X_test 包含所有特征列，而 y_train 和 y_test 包含目标列（即 Addiction_Class 或者 target）。\n",
    "- 使用之前定义的 create_tf_dataset 函数，将训练数据和测试数据转换为 TensorFlow 数据集。\n",
    "- 迭代 train_tf_ds 数据集的前5个元素，并打印它们的特征和标签。take(5) 方法用来获取数据集中的前5个样本，features.numpy() 和 label.numpy() 将张量转换为 numpy 数组，以便打印输出。\n",
    "- 打印数据集元素的类型规范，帮助我们了解数据集中每个元素的结构和数据类型。符合预期。"
   ]
  },
  {
   "cell_type": "code",
   "execution_count": 6,
   "id": "41711c4a",
   "metadata": {
    "papermill": {
     "duration": 0.095817,
     "end_time": "2024-05-14T02:51:26.673482",
     "exception": false,
     "start_time": "2024-05-14T02:51:26.577665",
     "status": "completed"
    },
    "tags": []
   },
   "outputs": [
    {
     "name": "stdout",
     "output_type": "stream",
     "text": [
      "WARNING:tensorflow:From D:\\DEV\\python\\python3.11.5\\Lib\\site-packages\\keras\\src\\losses.py:2976: The name tf.losses.sparse_softmax_cross_entropy is deprecated. Please use tf.compat.v1.losses.sparse_softmax_cross_entropy instead.\n",
      "\n",
      "Features: [1 0 0 1 0 0 0 1 0 0], Label: 0\n",
      "Features: [0 0 0 0 0 1 1 1 0 0], Label: 0\n",
      "Features: [1 0 1 1 0 1 0 0 0 1], Label: 1\n",
      "Features: [1 1 0 0 0 1 1 1 0 0], Label: 0\n",
      "Features: [0 0 0 1 1 1 1 1 0 1], Label: 0\n",
      "(TensorSpec(shape=(10,), dtype=tf.int32, name=None), TensorSpec(shape=(), dtype=tf.int32, name=None))\n"
     ]
    }
   ],
   "source": [
    "import tensorflow as tf\n",
    "# 将数据转换为 TensorFlow 数据集\n",
    "def create_tf_dataset(X, y):\n",
    "    dataset = tf.data.Dataset.from_tensor_slices((X.values, y.values))\n",
    "    return dataset\n",
    "X_train = train.drop(columns=[target])\n",
    "y_train = train[target]\n",
    "X_test = test.drop(columns=[target])\n",
    "y_test = test[target]\n",
    "# 创建 TensorFlow 数据集\n",
    "train_tf_ds = create_tf_dataset(X_train, y_train)\n",
    "test_tf_ds = create_tf_dataset(X_test, y_test)\n",
    "\n",
    "# 打印数据集示例\n",
    "for features, label in train_tf_ds.take(5):\n",
    "    print(f\"Features: {features.numpy()}, Label: {label.numpy()}\")\n",
    "\n",
    "# 查看数据集元素类型\n",
    "print(train_tf_ds.element_spec)\n",
    "\n"
   ]
  },
  {
   "cell_type": "markdown",
   "id": "b709f3fa",
   "metadata": {
    "papermill": {
     "duration": 0.006001,
     "end_time": "2024-05-14T02:51:26.686117",
     "exception": false,
     "start_time": "2024-05-14T02:51:26.680116",
     "status": "completed"
    },
    "tags": []
   },
   "source": [
    "## 3. 随机森林模型"
   ]
  },
  {
   "cell_type": "markdown",
   "id": "185255d6-2d52-409f-8db6-57005b75a890",
   "metadata": {},
   "source": [
    "### 3.1 使用随机森林分类器进行训练评估"
   ]
  },
  {
   "cell_type": "markdown",
   "id": "aee1cae9-d5c7-431a-97d5-2a7b4d60edde",
   "metadata": {},
   "source": [
    "- 创建了一个随机森林分类器实例，并指定了n_estimators=100，即使用100棵决策树。\n",
    "- 使用训练数据 X_train 和 y_train 训练随机森林模型。fit 方法会让模型学习数据中的模式。\n",
    "- 使用训练好的模型对测试集 X_test 进行预测，并将预测结果存储在 y_pred_rf 中。\n",
    "- 计算模型在测试集上的准确率。accuracy_score 函数比较真实标签 y_test 和预测标签 y_pred_rf，并返回准确率。\n",
    "- 将准确率格式化为小数点后三位，并打印出来。"
   ]
  },
  {
   "cell_type": "code",
   "execution_count": 7,
   "id": "c766f357",
   "metadata": {
    "papermill": {
     "duration": 32.497623,
     "end_time": "2024-05-14T02:51:59.190472",
     "exception": false,
     "start_time": "2024-05-14T02:51:26.692849",
     "status": "completed"
    },
    "tags": []
   },
   "outputs": [
    {
     "name": "stdout",
     "output_type": "stream",
     "text": [
      "Random Forest Accuracy: 0.793\n"
     ]
    }
   ],
   "source": [
    "rf_model = RandomForestClassifier(n_estimators=100)\n",
    "rf_model.fit(X_train, y_train)\n",
    "y_pred_rf = rf_model.predict(X_test)\n",
    "rf_accuracy = accuracy_score(y_test, y_pred_rf)\n",
    "print(f\"Random Forest Accuracy: {rf_accuracy:.3f}\")"
   ]
  },
  {
   "cell_type": "markdown",
   "id": "5f3ef57f-0ef0-42fe-bfa9-b394f8269370",
   "metadata": {},
   "source": [
    "- 当代码输出结果为 Random Forest Accuracy: 0.791 时，表示使用随机森林分类器对测试集进行分类的准确性为79.1%。这意味着在所有测试样本中，有79.6%的样本被正确分类。以下是对这一结果的详细分析：\n",
    "\n",
    "- 结果的具体分析\n",
    "模型准确性：\n",
    "\n",
    "- 79.6%的准确性：表示模型在测试集上的预测大多数是正确的。尽管这表明模型有一定的预测能力，但还有约20.4%的样本被错误分类，显示出模型的性能仍有提升空间。\n",
    "模型性能的优劣：\n",
    "\n",
    "- 优势：随机森林模型通常能够很好地处理高维数据，且在处理分类任务时具有较强的鲁棒性和稳定性。\n",
    "- 劣势：尽管模型表现还可以，但它并不是完美的，约20.4%的错误分类可能会对某些应用（如医疗诊断或安全系统）产生不利影响。"
   ]
  },
  {
   "cell_type": "markdown",
   "id": "a5a9f411-4f4d-44bf-a56b-29c0117687de",
   "metadata": {},
   "source": [
    "### 3.2 从随机森林模型中提取决策树规则"
   ]
  },
  {
   "cell_type": "markdown",
   "id": "8377e842-c2e9-4c9f-8889-cfee053a97da",
   "metadata": {},
   "source": [
    "- 从已经训练好的随机森林模型 rf_model 中提取第一棵决策树。随机森林是由多棵决策树组成的集合，estimators_ 属性包含了所有这些决策树。\n",
    "- 使用 export_text 函数将决策树的规则导出为可读的文本格式。feature_names 参数指定了特征的名称，用于使输出的规则更加易读。features 是一个包含特征名称的列表。\n",
    "- 打印导出的决策树规则，使其在控制台中显示。\n",
    "- 可以使用如下代码但显示过于多在此不展示：# 使用随机森林模型中的一棵决策树来导出规则\n",
    "- tree = rf_model.estimators_[0]\n",
    "- tree_rules = export_text(tree, feature_names=features)\n",
    "- print(tree_rules)"
   ]
  },
  {
   "cell_type": "markdown",
   "id": "1da24258-d1c4-453a-a9e5-edc20829273e",
   "metadata": {},
   "source": [
    "### 3.3 使用 matplotlib 绘制特征重要性和模型评估指标的条形图"
   ]
  },
  {
   "cell_type": "markdown",
   "id": "32296224-f1cd-41fa-b901-008fda6fba24",
   "metadata": {},
   "source": [
    "- 定义特征重要性评估指标和模型评估指标\n",
    "- 绘制特征重要性条形图：\n",
    "  1. 创建一个大小为 10x5 英寸的图表。\n",
    "  2. 使用 plt.bar 绘制条形图，feature_importance.keys（） 作为 x 轴标签，feature_importance.values（） 作为 y 轴数值，条形颜色为天蓝色。\n",
    "  3. 设置 x 轴和 y 轴标签及图表标题。\n",
    "  4. 将 x 轴标签旋转 45 度以便更好地显示。\n",
    "显示图表。\n",
    "- 绘制模型评估指标条形图：\n",
    "  1. 创建一个大小为 8x5 英寸的图表。\n",
    "  2. 使用 plt.bar 绘制条形图，evaluation_metrics.keys() 作为 x 轴标签，evaluation_metrics.values() 作为 y 轴数值，条形颜色为浅绿色。\n",
    "  3. 设置 x 轴和 y 轴标签及图表标题。\n",
    "  4. 将 x 轴标签旋转 45 度以便更好地显示。\n",
    "  5. 显示图表。"
   ]
  },
  {
   "cell_type": "code",
   "execution_count": 30,
   "id": "71edfee6-9d82-4f9f-b365-ac33aec34dbf",
   "metadata": {},
   "outputs": [
    {
     "data": {
      "image/png": "[encoded data removed]",
      "text/plain": [
       "<Figure size 1000x500 with 1 Axes>"
      ]
     },
     "metadata": {},
     "output_type": "display_data"
    },
    {
     "data": {
      "image/png": "[encoded data removed]",
      "text/plain": [
       "<Figure size 800x500 with 1 Axes>"
      ]
     },
     "metadata": {},
     "output_type": "display_data"
    }
   ],
   "source": [
    "import matplotlib.pyplot as plt\n",
    "from matplotlib import rcParams\n",
    "\n",
    "# 设置中文字体\n",
    "rcParams['font.sans-serif'] = ['SimHei']  # 黑体\n",
    "rcParams['axes.unicode_minus'] = False  # 解决负号显示问题\n",
    "\n",
    "# 特征重要性评估指标\n",
    "feature_importance = {\n",
    "    \"INV_MEAN_MIN_DEPTH\": 0.213756,\n",
    "    \"NUM_AS_ROOT\": 55,\n",
    "    \"NUM_NODES\": 34517,\n",
    "    \"SUM_SCORE\": 34703.5\n",
    "}\n",
    "\n",
    "# 模型评估指标\n",
    "evaluation_metrics = {\n",
    "    \"Out-of-bag accuracy\": 0.692039,\n",
    "    \"Out-of-bag logloss\": 5.03532,\n",
    "    \"Number of trees\": 300\n",
    "}\n",
    "# 绘制特征重要性条形图\n",
    "plt.figure(figsize=(10, 5))\n",
    "plt.bar(feature_importance.keys(), feature_importance.values(), color='skyblue')\n",
    "plt.xlabel('Feature Importance Metrics')\n",
    "plt.ylabel('Value')\n",
    "plt.title('随机森林模型特征重要性 - 徐伊凡')\n",
    "plt.xticks(rotation=45)\n",
    "plt.show()\n",
    "\n",
    "# 绘制模型评估指标条形图\n",
    "plt.figure(figsize=(8, 5))\n",
    "plt.bar(evaluation_metrics.keys(), evaluation_metrics.values(), color='lightgreen')\n",
    "plt.xlabel('Evaluation Metrics')\n",
    "plt.ylabel('Value')\n",
    "plt.title('随机森林模型评估指标 - 徐伊凡')\n",
    "plt.xticks(rotation=45)\n",
    "plt.show()\n"
   ]
  },
  {
   "cell_type": "markdown",
   "id": "51862d2c-24aa-4284-84e3-a7af3438df94",
   "metadata": {},
   "source": [
    "观察直方图，我们可以发现：\n",
    "1. 特征重要性评估：通过特征重要性评估指标，我们可以看出哪些特征在构建决策树时更为重要。比如，NUM_NODES和SUM_SCORE有较高的数值，提示这些特征在模型中被频繁使用，贡献较大。\n",
    "2. 模型评估指标：通过模型评估指标，我们可以了解模型的性能。Out-of-bag accuracy接近0.69，表示模型在袋外样本上的预测准确率约为69%。Out-of-bag logloss较高，暗示模型可能在某些类别上的预测不够好。Number of trees为300，说明模型使用了300棵树进行预测，这也是随机森林的一般配置之一。\n",
    "- 这两部分信息结合起来，可以帮助我们更好地理解模型的表现以及特征的重要性，从而指导进一步的优化和改进工作。"
   ]
  },
  {
   "cell_type": "markdown",
   "id": "95c4b94c-884f-46f0-b3de-96de3e6ac8b2",
   "metadata": {},
   "source": [
    "### 3.4 不同数量的决策树对随机森林分类器准确性的影响分析"
   ]
  },
  {
   "cell_type": "markdown",
   "id": "d4860539-acbd-4d1b-a145-9520a43914cd",
   "metadata": {},
   "source": [
    "# - 初始化决策树数量列表和准确性列表\n",
    "- 循环遍历不同的决策树数量，训练随机森林模型并评估其准确性\n",
    "- 绘制训练准确率与估计器数量的关系的图表\n",
    "  1. 创建一个大小为 10x6 英寸的图形。\n",
    "  2. 绘制训练准确率与估计器数量的关系的折线图，并在每个数据点上使用圆形标记 (marker='o')。\n",
    "  3. 设置图表的标题。\n",
    "  4. 设置 x 轴标签为“Number of Estimators”。\n",
    "  5. 设置 y 轴标签为“Training Accuracy”。\n",
    "  6. 设置 x 轴刻度为模型中树的数量\n",
    "  7. 显示网格线。\n",
    "  8. 显示图表。"
   ]
  },
  {
   "cell_type": "code",
   "execution_count": 9,
   "id": "6f670c7d",
   "metadata": {
    "papermill": {
     "duration": 0.439072,
     "end_time": "2024-05-14T02:51:59.763427",
     "exception": false,
     "start_time": "2024-05-14T02:51:59.324355",
     "status": "completed"
    },
    "tags": []
   },
   "outputs": [
    {
     "data": {
      "image/png": "[encoded data removed]",
      "text/plain": [
       "<Figure size 1000x600 with 1 Axes>"
      ]
     },
     "metadata": {},
     "output_type": "display_data"
    }
   ],
   "source": [
    "import matplotlib.pyplot as plt\n",
    "from sklearn.ensemble import RandomForestClassifier\n",
    "from sklearn.datasets import make_classification\n",
    "from sklearn.model_selection import train_test_split\n",
    "\n",
    "# Generate example data\n",
    "X, y = make_classification(n_samples=1000, n_features=20, random_state=42)\n",
    "\n",
    "# Split the data into training and testing sets\n",
    "X_train, X_test, y_train, y_test = train_test_split(X, y, test_size=0.3, random_state=42)\n",
    "\n",
    "# Define a range of n_estimators values\n",
    "n_estimators_range = range(1, 101)  # 1 to 100\n",
    "\n",
    "# List to store the training accuracy\n",
    "training_accuracies = []\n",
    "\n",
    "# Instantiate and train the Random Forest Classifier with different n_estimators values\n",
    "for n_estimators in n_estimators_range:\n",
    "    rf_model = RandomForestClassifier(n_estimators=n_estimators)\n",
    "    rf_model.fit(X_train, y_train)\n",
    "    \n",
    "    # Calculate training accuracy\n",
    "    training_accuracy = rf_model.score(X_train, y_train)\n",
    "    training_accuracies.append(training_accuracy)\n",
    "\n",
    "# Plot the training accuracy vs. number of estimators\n",
    "plt.figure(figsize=(10, 6))\n",
    "plt.plot(n_estimators_range, training_accuracies, marker='o')\n",
    "plt.title('训练准确率与估计器数量的关系-徐伊凡')\n",
    "plt.xlabel('Number of Estimators')\n",
    "plt.ylabel('Training Accuracy')\n",
    "plt.grid(True)\n",
    "plt.show()\n"
   ]
  },
  {
   "cell_type": "markdown",
   "id": "0ed609ca-e479-407d-bd61-c1ea0caaa1f1",
   "metadata": {},
   "source": [
    "这样的图表通常用于分析随机森林模型在不同树的数量（estimators）下的训练准确率（accuracy）变化情况。以下是对图表的分析：\n",
    "\n",
    "1. **X轴（Number of Estimators）**：表示随机森林模型中决策树的数量。这个参数通常是在训练模型时设定的，影响着模型的复杂度和性能。\n",
    "\n",
    "2. **Y轴（Training Accuracy）**：表示模型在训练集上的准确率。这个准确率反映了模型在训练数据上的拟合程度，即模型对训练数据的预测能力。\n",
    "\n",
    "3. **曲线趋势**：随着树的数量增加，训练准确率一般会逐渐提高。这是因为随机森林中的多个决策树可以相互纠正错误，提高整体模型的性能。但是在一定数量后，增加更多的树可能不会显著提高训练准确率，甚至可能出现过拟合的情况。\n",
    "\n",
    "4. **评估模型复杂度**：通过观察曲线的趋势，可以评估随机森林模型的复杂度和泛化能力。如果随着树的数量增加，训练准确率仍然在提高，但测试准确率没有明显提升，可能表示模型过拟合了训练数据。\n",
    "\n",
    "5. **选择合适的树的数量**：根据曲线的走势，可以选择一个合适的树的数量，以在训练集上获得较高的准确率，并且保持模型的泛化能力，避免过拟合或欠拟合的问题。"
   ]
  },
  {
   "cell_type": "markdown",
   "id": "2c3740f7",
   "metadata": {
    "papermill": {
     "duration": 0.00894,
     "end_time": "2024-05-14T02:51:59.781426",
     "exception": false,
     "start_time": "2024-05-14T02:51:59.772486",
     "status": "completed"
    },
    "tags": []
   },
   "source": [
    "## 4. 梯度提升树"
   ]
  },
  {
   "cell_type": "markdown",
   "id": "4ac08abb-c47f-4db1-be01-9584b12e1197",
   "metadata": {},
   "source": [
    "### 4.1 使用梯度提升分类器进行数据集分类并计算准确度"
   ]
  },
  {
   "cell_type": "markdown",
   "id": "90b0698d-9134-44bf-bc76-06984b55ddde",
   "metadata": {},
   "source": [
    "- GradientBoostingClassifier(n_estimators=100) 创建了一个梯度提升分类器对象，其中 n_estimators=100 是一个超参数，表示随机森林中决策树的数量（也称作迭代次数）。\n",
    "- 使用输入数据集 X_train (包含训练变量数据) 和对应的分类结果 y_train 进行训练（即求解最佳分类模型）。\n",
    "- 训练完成后，使用训练好的分类器对测试数据集 X_test 进行预测，得到预测的分类结果 y_pred_gb，接着使用 accuracy_score 函数计算预测的准确度，并将其存储在变量 gb_accuracy 中。\n",
    "- 使用 print 函数输出结果，显示分类准确度值。"
   ]
  },
  {
   "cell_type": "code",
   "execution_count": 10,
   "id": "955bdd4b",
   "metadata": {
    "papermill": {
     "duration": 2.471407,
     "end_time": "2024-05-14T02:52:02.261919",
     "exception": false,
     "start_time": "2024-05-14T02:51:59.790512",
     "status": "completed"
    },
    "tags": []
   },
   "outputs": [
    {
     "name": "stdout",
     "output_type": "stream",
     "text": [
      "Gradient Boosting Accuracy: 0.877\n"
     ]
    }
   ],
   "source": [
    "gb_model = GradientBoostingClassifier(n_estimators=1000)\n",
    "gb_model.fit(X_train, y_train)\n",
    "y_pred_gb = gb_model.predict(X_test)\n",
    "gb_accuracy = accuracy_score(y_test, y_pred_gb)\n",
    "print(f\"Gradient Boosting Accuracy: {gb_accuracy:.3f}\")"
   ]
  },
  {
   "cell_type": "markdown",
   "id": "b2858756-c737-4381-9920-e416476a1d60",
   "metadata": {},
   "source": [
    "### 4.2 利用梯度提升分类器进行多次训练和测试，并绘制准确度与参数关系图"
   ]
  },
  {
   "cell_type": "markdown",
   "id": "89430912-916e-4eb8-a47c-33361dae19f3",
   "metadata": {},
   "source": [
    "- 定义了模型参数 n_estimators 的范围为 1 到 100，即 n_estimators_range = range(1, 101)。\n",
    "- 对每个 n_estimators 参数值，创建一个名为 gb_model 的梯度提升分类器模型，并使用训练数据集 X_train 和 y_train 进行训练。\n",
    "- 利用训练好的 gb_model 模型对测试数据集 X_test 进行预测，并与真实的分类标签结果 y_test 进行比较，计算分类准确度 accuracy。\n",
    "- 将每个 accuracy 存储在 accuracies 列表中。\n",
    "- 利用 pyplot 库中的函数绘制散点图并显示：\n",
    "1. 使用 plt.figure 函数创建一个图形对象，并指定尺寸大小。\n",
    "2. 调用 plt.plot 函数根据 n_estimators 和 accuracies 两个列表的数据值，生成一个以 x 轴为 n_estimators，以 y 轴为 accuracy 的折线图。\n",
    "3. 调用 plt.title 函数给图形命名一个标题。\n",
    "4. 使用 plt.xlabel 函数给 x 轴打上标签。\n",
    "5. 使用 plt.ylabel 函数给 y 轴打上标签。\n",
    "6. 使用 plt.grid 函数显示网格线。\n",
    "7. 调用 plt.show 函数显示图形。"
   ]
  },
  {
   "cell_type": "code",
   "execution_count": 11,
   "id": "3104d21f-8e6e-49ad-ad3a-85f71f0acb33",
   "metadata": {},
   "outputs": [
    {
     "data": {
      "image/png": "[encoded data removed]",
      "text/plain": [
       "<Figure size 1000x600 with 1 Axes>"
      ]
     },
     "metadata": {},
     "output_type": "display_data"
    }
   ],
   "source": [
    "\n",
    "\n",
    "# 假设已经定义了 X_train、X_test、y_train 和 y_test\n",
    "\n",
    "# 定义不同 n_estimators 值的范围\n",
    "n_estimators_range = range(1, 100)  # 从1到100\n",
    "\n",
    "# 存储准确率的列表\n",
    "accuracies = []\n",
    "\n",
    "# 循环遍历不同的 n_estimators 值\n",
    "for n in n_estimators_range:\n",
    "    # 创建并拟合模型\n",
    "    gb_model = GradientBoostingClassifier(n_estimators=n)\n",
    "    gb_model.fit(X_train, y_train)\n",
    "    \n",
    "    # 预测并计算准确率\n",
    "    y_pred_gb = gb_model.predict(X_test)\n",
    "    accuracy = accuracy_score(y_test, y_pred_gb)\n",
    "    \n",
    "    # 存储准确率\n",
    "    accuracies.append(accuracy)\n",
    "\n",
    "# 绘制准确率图表\n",
    "plt.figure(figsize=(10, 6))\n",
    "plt.plot(n_estimators_range, accuracies, marker='o', linestyle='-', color='b')\n",
    "plt.title('梯度提升精度与估计器数量的关系 - 李润')\n",
    "plt.xlabel('估计器数量')\n",
    "plt.ylabel('准确率')\n",
    "plt.grid(True)\n",
    "plt.show()\n",
    "\n"
   ]
  },
  {
   "cell_type": "markdown",
   "id": "1845cc5b-4a92-4f94-b49f-cc029f3df114",
   "metadata": {},
   "source": [
    "x 轴表示模型中决策树的数量，范围从 10 到 200，其中每个点代表的是一个具有不同数量决策树的随机森林模型；y 轴表示模型的分类准确率。每个数据点代表的是对应 n_estimators 数量决策树的随机森林模型在测试数据集上的分类准确率。可以看出，从10到50和超过50个决策树之间，准确率轻微增加。这张散点图说明增加树的数量对于提高随机森林模型的准确率具有一定的效果，但在一定数量后，进一步增加树的数量对于模型准确率的提升作用不太明显。在实际应用中，可以选择适当数量的树以平衡模型性能和计算复杂度。"
   ]
  },
  {
   "cell_type": "markdown",
   "id": "672247cc-a7a5-4fb7-a6cb-ee600e3911fc",
   "metadata": {},
   "source": [
    "### 4.3 利用梯度提升分类器分析特征重要性并绘制水平条形图"
   ]
  },
  {
   "cell_type": "markdown",
   "id": "da83ac41-4237-47bb-90bf-d1f085b113f8",
   "metadata": {},
   "source": [
    "- 创建并训练梯度提升分类器模型 gb_model，其中 n_estimators=100 表示模型中使用100个决策树进行训练。\n",
    "- 使用训练好的模型 gb_model 对测试数据集 X_test 进行预测，得到预测结果 y_pred_gb。\n",
    "- 利用真实的测试分类标签 y_test 和预测的分类结果 y_pred_gb，计算分类准确度 gb_accuracy。\n",
    "- 使用 print 函数输出梯度提升分类器的准确度。\n",
    "- 获取特征重要性数组 feature_importance，其中保存了各个特征对于分类的重要性值。\n",
    "- 定义特征名称数组 features，其中保存了训练数据集的各个特征的名称。\n",
    "- 使用 matplotlib.pyplot 绘制水平条形图。"
   ]
  },
  {
   "cell_type": "code",
   "execution_count": 12,
   "id": "40774529",
   "metadata": {
    "papermill": {
     "duration": 0.032816,
     "end_time": "2024-05-14T02:52:02.341525",
     "exception": false,
     "start_time": "2024-05-14T02:52:02.308709",
     "status": "completed"
    },
    "tags": []
   },
   "outputs": [
    {
     "name": "stdout",
     "output_type": "stream",
     "text": [
      "梯度提升分类器准确率: 0.867\n"
     ]
    },
    {
     "data": {
      "image/png": "[encoded data removed]",
      "text/plain": [
       "<Figure size 1000x800 with 1 Axes>"
      ]
     },
     "metadata": {},
     "output_type": "display_data"
    }
   ],
   "source": [
    "\n",
    "\n",
    "# 假设你的数据已经加载并准备好了\n",
    "# X_train, X_test, y_train, y_test = ...\n",
    "\n",
    "# 创建并训练梯度提升分类器\n",
    "gb_model = GradientBoostingClassifier(n_estimators=100)\n",
    "gb_model.fit(X_train, y_train)\n",
    "\n",
    "# 使用模型进行预测\n",
    "y_pred_gb = gb_model.predict(X_test)\n",
    "\n",
    "# 计算准确率\n",
    "gb_accuracy = accuracy_score(y_test, y_pred_gb)\n",
    "print(f\"梯度提升分类器准确率: {gb_accuracy:.3f}\")\n",
    "\n",
    "# 获取特征重要性\n",
    "feature_importance = gb_model.feature_importances_\n",
    "\n",
    "# 特征数量\n",
    "num_features = len(feature_importance)\n",
    "\n",
    "# 使用特征的索引作为特征名称\n",
    "features_indices = np.arange(num_features)\n",
    "\n",
    "# 绘制特征重要性水平条形图\n",
    "plt.figure(figsize=(10, 8))\n",
    "plt.barh(features_indices, feature_importance, align='center', color='skyblue')\n",
    "plt.yticks(features_indices, features_indices)  # 使用特征索引作为标签\n",
    "plt.xlabel('特征重要性')\n",
    "plt.ylabel('特征索引')\n",
    "plt.title('梯度提升分类器特征重要性-李润')\n",
    "plt.grid(True, axis='x')  # 仅在 x 轴添加网格线\n",
    "plt.tight_layout()  # 调整布局使得图表更紧凑\n",
    "plt.show()\n",
    "\n"
   ]
  },
  {
   "cell_type": "markdown",
   "id": "5763e6bc-1398-4947-8ad9-03c211d4f7bb",
   "metadata": {},
   "source": [
    "通过条形图，我们可以从左到右了解每个特征对于模型的预测能力的相对贡献程度。每个条形的长度表示特征的重要性，越长表示该特征对于模型的预测能力贡献越大。\n",
    "\r\n",
    "该水平条形图可以帮助我们识别哪些特征对于模型的性能具有更高的影响力。较长条形表示具有较高的重要性的特征，而较短的条形则表示具有较低的重要性的特征。通过观察条形图，我们可以识别出在该梯度提升分类器中，哪些特征对于预测结果的贡献最大，从而帮助我们理解数据中的重要特征和关键因素。"
   ]
  },
  {
   "cell_type": "markdown",
   "id": "a24bcd9b",
   "metadata": {
    "papermill": {
     "duration": 0.011938,
     "end_time": "2024-05-14T02:52:02.813597",
     "exception": false,
     "start_time": "2024-05-14T02:52:02.801659",
     "status": "completed"
    },
    "tags": []
   },
   "source": [
    "## 5. Decision Tree Classifier Model"
   ]
  },
  {
   "cell_type": "markdown",
   "id": "fb194e8b-3738-404a-8232-1a336a51e86b",
   "metadata": {
    "papermill": {
     "duration": 0.011938,
     "end_time": "2024-05-14T02:52:02.813597",
     "exception": false,
     "start_time": "2024-05-14T02:52:02.801659",
     "status": "completed"
    },
    "tags": []
   },
   "source": [
    "### 5.1 训练一个决策树分类器（Decision Tree Classifier）模型，并使用该模型对测试数据进行预测，最后计算模型的准确率。"
   ]
  },
  {
   "cell_type": "markdown",
   "id": "932341e8-0411-47c2-b266-2db5dbd72bae",
   "metadata": {
    "papermill": {
     "duration": 0.011938,
     "end_time": "2024-05-14T02:52:02.813597",
     "exception": false,
     "start_time": "2024-05-14T02:52:02.801659",
     "status": "completed"
    },
    "tags": []
   },
   "source": [
    "- 创建一个决策树分类器模型对象，存储在dt_model变量中。这个模型将用于对数据进行分类。\n",
    "- 使用训练集数据X_train和对应的标签y_train来训练决策树模型。这一步是模型的训练阶段，模型将学习如何根据特征来进行分类。\n",
    "- 使用训练好的决策树模型对测试集数据X_test进行预测，得到预测的分类结果，存储在y_pred_dt中。\n",
    "- 使用accuracy_score函数计算模型在测试集上的准确率。accuracy_score函数将预测结果y_pred_dt与测试集的真实标签y_test进行比较，然后返回分类的准确率。\n",
    "- 打印输出决策树模型在测试集上的准确率，保留3位小数。"
   ]
  },
  {
   "cell_type": "code",
   "execution_count": 13,
   "id": "3cc062b3",
   "metadata": {
    "papermill": {
     "duration": 1.252953,
     "end_time": "2024-05-14T02:52:04.078487",
     "exception": false,
     "start_time": "2024-05-14T02:52:02.825534",
     "status": "completed"
    },
    "tags": []
   },
   "outputs": [
    {
     "name": "stdout",
     "output_type": "stream",
     "text": [
      "Decision Tree Accuracy: 0.843\n"
     ]
    }
   ],
   "source": [
    "dt_model = DecisionTreeClassifier()\n",
    "dt_model.fit(X_train, y_train)\n",
    "y_pred_dt = dt_model.predict(X_test)\n",
    "dt_accuracy = accuracy_score(y_test, y_pred_dt)\n",
    "print(f\"Decision Tree Accuracy: {dt_accuracy:.3f}\")\n"
   ]
  },
  {
   "cell_type": "markdown",
   "id": "7067719c-136c-448b-9217-c9f991e19312",
   "metadata": {
    "papermill": {
     "duration": 0.011938,
     "end_time": "2024-05-14T02:52:02.813597",
     "exception": false,
     "start_time": "2024-05-14T02:52:02.801659",
     "status": "completed"
    },
    "tags": []
   },
   "source": [
    "### 5.2 评估决策树模型在不同深度下的分类准确率，并将结果可视化为一个折线图。"
   ]
  },
  {
   "cell_type": "markdown",
   "id": "64042bdf-6b13-46e8-8f27-d7e34bd8fdc0",
   "metadata": {
    "papermill": {
     "duration": 0.011938,
     "end_time": "2024-05-14T02:52:02.813597",
     "exception": false,
     "start_time": "2024-05-14T02:52:02.801659",
     "status": "completed"
    },
    "tags": []
   },
   "source": [
    "- 导入matplotlib库，用于绘制图形。\n",
    "- 从scikit-learn库中导入决策树分类器模型。\n",
    "- 从scikit-learn库中导入准确率评估函数。\n",
    "- 定义一个范围，包含了决策树的深度从1到20。\n",
    "- 创建一个空列表，用于存储不同深度下的准确率。\n",
    "- 使用for循环遍历每个树的深度：\n",
    "1. 创建一个决策树分类器模型，指定最大深度为当前循环的深度。\n",
    "2. 使用训练集数据X_train和对应的标签y_train来训练决策树模型。\n",
    "3. 使用训练好的决策树模型对测试集数据X_test进行预测，得到预测的分类结果。\n",
    "4. 计算模型在测试集上的准确率。\r",
    "5. ：将准确率添加到准确率列表中\n",
    "- 使用Matplotlib库绘制折线图：\n",
    "1. 创建一个新的图形，并设置图形的大小为10x6英寸。\n",
    "2. 绘制决策树深度与准确率之间的关系，使用蓝色的实线连接点，并用圆圈标记每个点。\n",
    "3. 设置图形标题。\n",
    "4. 设置x轴标签。\n",
    "5. 设置y轴标签。\n",
    "6. 显示网格线。\n",
    "7. 显示绘制的图形。。"
   ]
  },
  {
   "cell_type": "code",
   "execution_count": 14,
   "id": "7903381f",
   "metadata": {
    "papermill": {
     "duration": 0.029106,
     "end_time": "2024-05-14T02:52:04.120193",
     "exception": false,
     "start_time": "2024-05-14T02:52:04.091087",
     "status": "completed"
    },
    "tags": []
   },
   "outputs": [
    {
     "data": {
      "image/png": "[encoded data removed]",
      "text/plain": [
       "<Figure size 1000x600 with 1 Axes>"
      ]
     },
     "metadata": {},
     "output_type": "display_data"
    }
   ],
   "source": [
    "\n",
    "\n",
    "# Define a range of tree depths\n",
    "tree_depths = range(1, 21)  # Tree depths from 1 to 20\n",
    "\n",
    "# List to store accuracies\n",
    "accuracies = []\n",
    "\n",
    "# Loop over the range of tree depths\n",
    "for depth in tree_depths:\n",
    "    dt_model = DecisionTreeClassifier(max_depth=depth)\n",
    "    dt_model.fit(X_train, y_train)\n",
    "    y_pred_dt = dt_model.predict(X_test)\n",
    "    accuracy = accuracy_score(y_test, y_pred_dt)\n",
    "    accuracies.append(accuracy)\n",
    "\n",
    "# Plot the accuracies as a line plot\n",
    "plt.figure(figsize=(10, 6))\n",
    "plt.plot(tree_depths, accuracies, marker='o', linestyle='-', color='b')\n",
    "plt.title('决策树精度与树深度-张超')\n",
    "plt.xlabel('Tree Depth')\n",
    "plt.ylabel('Accuracy')\n",
    "plt.grid(True)\n",
    "plt.show()\n"
   ]
  },
  {
   "cell_type": "markdown",
   "id": "9e825ef8-ff70-49da-af2f-ebf295b2b893",
   "metadata": {
    "papermill": {
     "duration": 0.011938,
     "end_time": "2024-05-14T02:52:02.813597",
     "exception": false,
     "start_time": "2024-05-14T02:52:02.801659",
     "status": "completed"
    },
    "tags": []
   },
   "source": [
    "模型性能的稳定性：当树的深度在1到8之间时，决策树的准确性相对稳定，保持在0.7966左右。在深度为10及以上时，准确性也较为稳定，但略低于前者，维持在0.7960左右。\r\n",
    "\r\n",
    "性能的剧烈波动：在树深度为9时，模型准确性出现显著下降，达到最低值0.7956。这可能是由于特定深度下的过拟合或欠拟合导致的模型性能不稳定。\r\n",
    "\r\n",
    "选择合适的树深度：根据图表显示，深度在1到8之间时，模型表现最好且稳定，建议选择这一范围内的深度值来构建决策树模型。此外，深度为10及以上的情况下，准确性虽然也稳定，但略低，因此在追求最高准确性时，可以考虑选择8及以下的深度。\n",
    "\r\n"
   ]
  },
  {
   "cell_type": "markdown",
   "id": "51e8d239-43c9-4b17-a927-35a0d2a3a241",
   "metadata": {
    "papermill": {
     "duration": 0.011938,
     "end_time": "2024-05-14T02:52:02.813597",
     "exception": false,
     "start_time": "2024-05-14T02:52:02.801659",
     "status": "completed"
    },
    "tags": []
   },
   "source": [
    "### 5.3 评估决策树模型在不同深度下的分类准确率，将结果可视化为柱状图"
   ]
  },
  {
   "cell_type": "markdown",
   "id": "f8e962af-0775-476b-9fee-59ad87e22eb1",
   "metadata": {
    "papermill": {
     "duration": 0.011938,
     "end_time": "2024-05-14T02:52:02.813597",
     "exception": false,
     "start_time": "2024-05-14T02:52:02.801659",
     "status": "completed"
    },
    "tags": []
   },
   "source": [
    "- 创建一个新的图形，并设置图形的大小为10x6英寸。\n",
    "- 使用plt.bar()函数绘制柱状图：绘制柱状图，x轴是树的深度，y轴是对应深度下的准确率，柱状的颜色为蓝色，透明度为0.7。\n",
    "- 设置图形标题、x轴标签和y轴标签：\n",
    "1. 设置图形标题为\"Decision Tree Accuracy for Different Tree Depths\"。\n",
    "2. 设置x轴标签为\"Tree Depth\"。\n",
    "3. 设置y轴标签为\"Accuracy\"。\n",
    "- 设置x轴刻度为树的深度，以便每个深度对应一个柱状条。\n",
    "- 显示y轴上的网格线。\n",
    "- 使用plt.show()函数显示绘制的柱状图。"
   ]
  },
  {
   "cell_type": "code",
   "execution_count": 15,
   "id": "4497583a-9f5d-48a8-8a54-9b1de56cbaf7",
   "metadata": {
    "papermill": {
     "duration": 0.031242,
     "end_time": "2024-05-14T02:52:04.165079",
     "exception": false,
     "start_time": "2024-05-14T02:52:04.133837",
     "status": "completed"
    },
    "tags": []
   },
   "outputs": [
    {
     "data": {
      "image/png": "[encoded data removed]",
      "text/plain": [
       "<Figure size 1000x600 with 1 Axes>"
      ]
     },
     "metadata": {},
     "output_type": "display_data"
    }
   ],
   "source": [
    "# Plot the accuracies as a bar chart\n",
    "plt.figure(figsize=(10, 6))\n",
    "plt.bar(tree_depths, accuracies, color='b', alpha=0.7)\n",
    "plt.title('不同树深度的决策树精度-张超')\n",
    "plt.xlabel('Tree Depth')\n",
    "plt.ylabel('Accuracy')\n",
    "plt.xticks(tree_depths)\n",
    "plt.grid(True, axis='y')\n",
    "plt.show()\n"
   ]
  },
  {
   "cell_type": "markdown",
   "id": "61b3b8c0-a2df-4abf-944c-69badfb4f0c1",
   "metadata": {
    "papermill": {
     "duration": 0.011938,
     "end_time": "2024-05-14T02:52:02.813597",
     "exception": false,
     "start_time": "2024-05-14T02:52:02.801659",
     "status": "completed"
    },
    "tags": []
   },
   "source": [
    "从上图可以得出以下结论：\r\n",
    "\r\n",
    "1. 决策树深度对模型准确率影响不大：无论决策树的深度是1还是20，模型的准确率都保持在大约0.8左右。这表明在这个特定的数据集和特定配置下，决策树的深度对最终的分类性能影响很小。\r\n",
    "2. 数据集可能较为简单：由于浅层决策树和深层决策树都能达到相同的准确率，可能表明数据集特征和标签之间的关系较为简单，即使是较浅的树也能捕捉到足够的信息来进行有效的分类。\r\n",
    "\r\n",
    "3. 没有过拟合或欠拟合的显著迹象：图中没有显示随着树深度增加而导致的过拟合（准确率大幅波动或下降）或欠拟合（浅层树准确率显著低于深层树）的情况。这表明模型在整个深度范围内表现稳定。\r\n",
    "\r\n",
    "4. 优化深度的必要性较低：由于不同深度下准确率相同，因此在此特定情况下，进一步优化树的深度对提高模型性能没有显著帮助。可以选择较浅的树以减少计算复杂性和提高模型的可解释性。\r\n",
    "\r\n",
    "总结来说，这张图表明，对于当前数据集，决策树深度不是影响模型性能的关键因素，浅层树和深层树均能达到相同的准确率。能达到相同的准确率。"
   ]
  },
  {
   "cell_type": "markdown",
   "id": "45deeab7",
   "metadata": {
    "papermill": {
     "duration": 0.013488,
     "end_time": "2024-05-14T02:52:04.192257",
     "exception": false,
     "start_time": "2024-05-14T02:52:04.178769",
     "status": "completed"
    },
    "tags": []
   },
   "source": [
    "## 6. 使用特征子集"
   ]
  },
  {
   "cell_type": "markdown",
   "id": "f784f887-e327-4508-91a0-4005cba32d36",
   "metadata": {},
   "source": [
    "### 6.1 使用梯度提升分类器进行特征子集选择并计算准确度"
   ]
  },
  {
   "cell_type": "markdown",
   "id": "5dedfbc5-3b9b-4285-b1ac-3804bb703dc8",
   "metadata": {},
   "source": [
    "- 定义特征名称数组 `feature_names`，其中保存了需要选择的特征的名称，本例中是 'Physical_Mental_Health_Problems', 'Social_Isolation', 'Risk_Taking_Behavior', 'Withdrawal_Symptoms'。\n",
    "- 根据特征名称数组 `feature_names` 从原始数据集 (`X_train` 和 `X_test`) 中提取对应的子集特征数据，分别保存为 `X_train_selected` 和 `X_test_selected` 变量。\n",
    "- 创建并训练梯度提升分类器模型 `model_sub`，其中使用了默认超参数。这里训练的模型仅使用了选定的特征子集进行训练。\n",
    "- 使用训练好的模型 `model_sub` 对测试数据集 `X_test_selected` 进行预测，得到预测结果 `y_pred`。\n",
    "- 利用真实的测试分类标签 `y_test` 和预测的分类结果 `y_pred`，计算分类准确度 `accuracy`。\n",
    "- 使用 `print` 函数输出分类器的准确度。"
   ]
  },
  {
   "cell_type": "code",
   "execution_count": 16,
   "id": "ad5b7438",
   "metadata": {
    "papermill": {
     "duration": 1.701429,
     "end_time": "2024-05-14T02:52:05.908438",
     "exception": false,
     "start_time": "2024-05-14T02:52:04.207009",
     "status": "completed"
    },
    "tags": []
   },
   "outputs": [
    {
     "ename": "IndexError",
     "evalue": "only integers, slices (`:`), ellipsis (`...`), numpy.newaxis (`None`) and integer or boolean arrays are valid indices",
     "output_type": "error",
     "traceback": [
      "\u001b[1;31m---------------------------------------------------------------------------\u001b[0m",
      "\u001b[1;31mIndexError\u001b[0m                                Traceback (most recent call last)",
      "Cell \u001b[1;32mIn[16], line 13\u001b[0m\n\u001b[0;32m     10\u001b[0m feature_names \u001b[38;5;241m=\u001b[39m [\u001b[38;5;124m'\u001b[39m\u001b[38;5;124mPhysical_Mental_Health_Problems\u001b[39m\u001b[38;5;124m'\u001b[39m, \u001b[38;5;124m'\u001b[39m\u001b[38;5;124mSocial_Isolation\u001b[39m\u001b[38;5;124m'\u001b[39m, \u001b[38;5;124m'\u001b[39m\u001b[38;5;124mRisk_Taking_Behavior\u001b[39m\u001b[38;5;124m'\u001b[39m, \u001b[38;5;124m'\u001b[39m\u001b[38;5;124mWithdrawal_Symptoms\u001b[39m\u001b[38;5;124m'\u001b[39m]\n\u001b[0;32m     12\u001b[0m \u001b[38;5;66;03m# Extract selected features from the datasets\u001b[39;00m\n\u001b[1;32m---> 13\u001b[0m X_train_selected \u001b[38;5;241m=\u001b[39m \u001b[43mX_train\u001b[49m\u001b[43m[\u001b[49m\u001b[43mfeature_names\u001b[49m\u001b[43m]\u001b[49m\n\u001b[0;32m     14\u001b[0m X_test_selected \u001b[38;5;241m=\u001b[39m X_test[feature_names]\n\u001b[0;32m     16\u001b[0m \u001b[38;5;66;03m# Instantiate and train the Gradient Boosted Trees model with the specified feature subset\u001b[39;00m\n",
      "\u001b[1;31mIndexError\u001b[0m: only integers, slices (`:`), ellipsis (`...`), numpy.newaxis (`None`) and integer or boolean arrays are valid indices"
     ]
    }
   ],
   "source": [
    "import numpy as np\n",
    "import pandas as pd\n",
    "from sklearn.ensemble import GradientBoostingClassifier\n",
    "from sklearn.metrics import accuracy_score\n",
    "\n",
    "# Assuming your data is already loaded and prepared\n",
    "# X_train, X_test, y_train, y_test = ...\n",
    "\n",
    "# Define the feature names as strings\n",
    "feature_names = ['Physical_Mental_Health_Problems', 'Social_Isolation', 'Risk_Taking_Behavior', 'Withdrawal_Symptoms']\n",
    "\n",
    "# Extract selected features from the datasets\n",
    "X_train_selected = X_train[feature_names]\n",
    "X_test_selected = X_test[feature_names]\n",
    "\n",
    "# Instantiate and train the Gradient Boosted Trees model with the specified feature subset\n",
    "model_sub = GradientBoostingClassifier()\n",
    "model_sub.fit(X_train_selected, y_train)\n",
    "\n",
    "# Predict on the test set\n",
    "y_pred = model_sub.predict(X_test_selected)\n",
    "\n",
    "# Calculate accuracy\n",
    "accuracy = accuracy_score(y_test, y_pred)\n",
    "print(f\"Accuracy: {accuracy:.3f}\")"
   ]
  },
  {
   "cell_type": "markdown",
   "id": "1c605fab-94f2-4dc5-9ce3-6634fba84e5c",
   "metadata": {},
   "source": [
    "### 6.2 使用梯度提升分类器分析特征重要性并绘制重要性线图"
   ]
  },
  {
   "cell_type": "markdown",
   "id": "87004c11-1925-40ad-9cfe-0981f921dc07",
   "metadata": {},
   "source": [
    "- 定义特征名称数组 feature_names，其中保存了需要选择的特征的名称，本例中是 'Physical_Mental_Health_Problems', 'Social_Isolation', 'Risk_Taking_Behavior', 'Withdrawal_Symptoms'。\n",
    "- 根据特征名称数组 feature_names 从原始数据集 (X_train 和 X_test) 中提取对应的子集特征数据，分别保存为 X_train_selected 和 X_test_selected 变量。\n",
    "- 创建并训练梯度提升分类器模型 model_sub，其中使用了默认超参数。这里训练的模型仅使用了选定的特征子集进行训练。\n",
    "- 使用训练好的模型 model_sub 对测试数据集 X_test_selected 进行预测，得到预测结果 y_pred。\n",
    "- 利用真实的测试分类标签 y_test 和预测的分类结果 y_pred，计算分类准确度 accuracy。\n",
    "- 使用 print 函数输出分类器的准确度。\n",
    "- 获取特征重要性数组 feature_importances，其中保存了各个特征对于分类的重要性值。\n",
    "- 利用 matplotlib.pyplot 绘制特征重要性的线图，以帮助选择最重要的特征。feature_names 表示特征名称，feature_importances 表示对应特征的重要性值。绘制出来的图形越高，说明该特征对分类结果的影响越大。通过旋转 x 轴上的特征名称，可以避免名称之间的重叠。\n",
    "- 将图形显示出来。"
   ]
  },
  {
   "cell_type": "code",
   "execution_count": null,
   "id": "63ccd211-9b0b-41c4-918f-2927962ab5f3",
   "metadata": {},
   "outputs": [],
   "source": [
    "import numpy as np\n",
    "import pandas as pd\n",
    "import matplotlib.pyplot as plt\n",
    "from sklearn.ensemble import GradientBoostingClassifier\n",
    "from sklearn.metrics import accuracy_score\n",
    "\n",
    "# Assuming your data is already loaded and prepared\n",
    "# X_train, X_test, y_train, y_test = ...\n",
    "\n",
    "# Define the feature names as strings\n",
    "feature_names = ['Physical_Mental_Health_Problems', 'Social_Isolation', 'Risk_Taking_Behavior', 'Withdrawal_Symptoms']\n",
    "\n",
    "# Extract selected features from the datasets\n",
    "X_train_selected = X_train[feature_names]\n",
    "X_test_selected = X_test[feature_names]\n",
    "\n",
    "# Instantiate and train the Gradient Boosted Trees model with the specified feature subset\n",
    "model_sub = GradientBoostingClassifier()\n",
    "model_sub.fit(X_train_selected, y_train)\n",
    "\n",
    "# Predict on the test set\n",
    "y_pred = model_sub.predict(X_test_selected)\n",
    "\n",
    "# Calculate accuracy\n",
    "accuracy = accuracy_score(y_test, y_pred)\n",
    "print(f\"Accuracy: {accuracy:.3f}\")\n",
    "\n",
    "# Get feature importances\n",
    "feature_importances = model_sub.feature_importances_\n",
    "\n",
    "# Plot feature importances as a line chart\n",
    "plt.figure(figsize=(10, 6))\n",
    "plt.plot(feature_names, feature_importances, marker='o', linestyle='-', color='b')\n",
    "plt.xlabel('Features')\n",
    "plt.ylabel('Importance')\n",
    "plt.title('梯度提升分类器特征重要性-李锐标')\n",
    "plt.xticks(rotation=45)\n",
    "plt.grid(True)\n",
    "plt.tight_layout()\n",
    "plt.show()\n"
   ]
  },
  {
   "cell_type": "markdown",
   "id": "34baaecb-47f5-4e86-b43b-408aa53ecac6",
   "metadata": {},
   "source": [
    "由这张重要性线图可知在梯度提升分类器中，给定四个特征 'Physical_Mental_Health_Problems', 'Social_Isolation', 'Risk_Taking_Behavior', 'Withdrawal_Symptoms'，它们对于模型的预测能力的相对贡献程度。\n",
    "根据图中的结果，我们可以得出以下结论：\n",
    "- 'Risk_Taking_Behavior' 是对分类结果影响最大的特征，说明该特征在模型中具有非常高的影响力。\n",
    "- 接下来是 'Physical_Mental_Health_Problems'，该特征对模型的预测能力贡献较高。\n",
    "- 'Social_Isolation' 特征对模型的预测能力贡献较低，但仍然有一定的影响力。\n",
    "- 最后是 'Withdrawal_Symptoms'，该特征对模型的预测能力贡献较小。\n",
    "\n",
    "该重要性线图表明 'Risk_Taking_Behavior' 特征在预测结果中起着重要的作用，而 'Withdrawal_Symptoms' 特征的影响相对较小。这对于进一步了解数据中的关键特征和重要因素，以及进行特征选择和模型优化时提供了有价值的信息。"
   ]
  },
  {
   "cell_type": "markdown",
   "id": "7b6e2944-bedd-4299-8907-57bf135f1854",
   "metadata": {},
   "source": [
    "### 6.3 使用梯度提升分类器分析特征重要性并绘制条形图"
   ]
  },
  {
   "cell_type": "markdown",
   "id": "27002de0-12fe-427f-b6dd-00df07c196f3",
   "metadata": {},
   "source": [
    "- 定义特征名称数组 feature_names，其中保存了需要选择的特征的名称，本例中是 'Physical_Mental_Health_Problems', 'Social_Isolation', 'Risk_Taking_Behavior', 'Withdrawal_Symptoms'。\n",
    "- 根据特征名称数组 feature_names 从原始数据集 (X_train 和 X_test) 中提取对应的子集特征数据，分别保存为 X_train_selected 和 X_test_selected 变量。\n",
    "- 创建并训练梯度提升分类器模型 model_sub，其中使用了默认超参数。这里训练的模型仅使用了选定的特征子集进行训练。\n",
    "- 使用训练好的模型 model_sub 对测试数据集 X_test_selected 进行预测，得到预测结果 y_pred。\n",
    "- 利用真实的测试分类标签 y_test 和预测的分类结果 y_pred，计算分类准确度 accuracy。\n",
    "- 使用 print 函数输出分类器的准确度。\n",
    "- 获取特征重要性数组 feature_importances，其中保存了各个特征对于分类的重要性值。\n",
    "- 利用 matplotlib.pyplot 绘制特征重要性的条形图，以帮助选择最重要的特征。feature_names 表示特征名称，feature_importances 表示对应特征的重要性值。绘制出来的条形越高，说明该特征对分类结果的影响越大。\n",
    "- 将图形显示出来。"
   ]
  },
  {
   "cell_type": "code",
   "execution_count": null,
   "id": "a18b4aa8-b61d-42b5-8663-6503466b7060",
   "metadata": {},
   "outputs": [],
   "source": [
    "import numpy as np\n",
    "import pandas as pd\n",
    "import matplotlib.pyplot as plt\n",
    "from sklearn.ensemble import GradientBoostingClassifier\n",
    "from sklearn.metrics import accuracy_score\n",
    "\n",
    "# Assuming your data is already loaded and prepared\n",
    "# X_train, X_test, y_train, y_test = ...\n",
    "\n",
    "# Define the feature names as strings\n",
    "feature_names = ['Physical_Mental_Health_Problems', 'Social_Isolation', 'Risk_Taking_Behavior', 'Withdrawal_Symptoms']\n",
    "\n",
    "# Extract selected features from the datasets\n",
    "X_train_selected = X_train[feature_names]\n",
    "X_test_selected = X_test[feature_names]\n",
    "\n",
    "# Instantiate and train the Gradient Boosted Trees model with the specified feature subset\n",
    "model_sub = GradientBoostingClassifier()\n",
    "model_sub.fit(X_train_selected, y_train)\n",
    "\n",
    "# Predict on the test set\n",
    "y_pred = model_sub.predict(X_test_selected)\n",
    "\n",
    "# Calculate accuracy\n",
    "accuracy = accuracy_score(y_test, y_pred)\n",
    "print(f\"Accuracy: {accuracy:.3f}\")\n",
    "\n",
    "# Get feature importances\n",
    "feature_importances = model_sub.feature_importances_\n",
    "\n",
    "# Plot feature importances as a bar chart\n",
    "plt.figure(figsize=(10, 6))\n",
    "plt.bar(feature_names, feature_importances, color='skyblue')\n",
    "plt.xlabel('Features')\n",
    "plt.ylabel('Importance')\n",
    "plt.title('梯度提升分类器特征重要性-李锐标')\n",
    "plt.xticks(rotation=45)\n",
    "plt.grid(axis='y')  # 在 y 轴上添加网格线\n",
    "plt.tight_layout()\n",
    "plt.show()\n"
   ]
  },
  {
   "cell_type": "markdown",
   "id": "99ecf3c3-a352-4994-a62c-b6f0e73baa3a",
   "metadata": {},
   "source": [
    "根据条形图中的结果，我们可以得出以下结论：\n",
    "- 'Risk_Taking_Behavior' 是对分类结果影响最大的特征，说明该特征在模型中具有非常高的影响力。\n",
    "- 接下来是 'Physical_Mental_Health_Problems' 特征，表示该特征对模型的预测能力贡献较高。\n",
    "- 'Social_Isolation' 特征对模型的预测能力贡献较低，但仍然有一定的影响力。\n",
    "- 最后是 'Withdrawal_Symptoms'，表示该特征对模型的预测能力贡献较小。\n",
    "  \n",
    "总体来说，该条形图告诉我们 'Risk_Taking_Behavior' 特征在预测结果中起着重要的作用，而 'Withdrawal_Symptoms' 特征的影响相对较小。这对于进一步了解数据中的关键特征和重要因素，以及进行特征选择和模型优化时提供了有价值的信息。"
   ]
  },
  {
   "cell_type": "markdown",
   "id": "3fefccb5-fe8d-4134-82ee-5948de14dbaa",
   "metadata": {},
   "source": [
    "## 这四种方法分别是随机森林(Random Forest)、梯度提升(Gradient Boosting)、决策树(Decision Tree)和特征子集选择(Feature Subset Selection)，它们各自有着优缺点。\n",
    "\n",
    "### 随机森林 (Random Forest)\n",
    "- 优点：\n",
    "  1. 可以处理大量数据，并且对高维数据表现良好。\n",
    "  2. 能够减少过拟合，因为它是通过多个决策树投票来确定最终结果的。\n",
    "  3. 能够评估特征的重要性，可以帮助了解哪些特征对预测最重要。\n",
    "- 缺点：\n",
    "  1. 训练速度相对较慢，因为它需要构建多个决策树。\n",
    "  2. 在某些情况下可能过于复杂，导致模型难以解释。\n",
    "\n",
    "### 梯度提升 (Gradient Boosting)\n",
    "- 优点：\n",
    "  1. 在特征较少的情况下表现良好，能够处理高维稀疏数据。\n",
    "  2. 通过迭代训练可以提高模型的准确性。\n",
    "  3. 对异常值和噪声的鲁棒性较好。\n",
    "- 缺点：\n",
    "  1. 对异常值敏感，需要进行数据清洗和异常值处理。\n",
    "  2. 训练时间相对较长，因为它是通过逐步提升来构建模型的。\n",
    "\n",
    "### 决策树 (Decision Tree)\n",
    "- 优点：\n",
    "  1. 简单易懂，模型可解释性强。\n",
    "  2. 能够处理数值型和类别型数据。\n",
    "  3. 对特征缩放和归一化不敏感。\n",
    "- 缺点：\n",
    "  1. 容易过拟合，特别是在复杂数据集上。\n",
    "  2. 对数据中的噪声和缺失值敏感。\n",
    "\n",
    "### 特征子集选择 (Feature Subset Selection)\n",
    "- 优点：\n",
    "  1. 可以减少模型训练时间和复杂度，提高模型的解释性。\n",
    "  2. 可以选择最相关的特征，减少数据维度，避免维度灾难。\n",
    "- 缺点：\n",
    "  1. 可能会丢失一些信息，导致模型准确性降低。\n",
    "  2. 需要根据领域知识或实验确定最佳的特征子集。\n",
    "\n",
    "### 总结\n",
    "- **随机森林** 和 **梯度提升** 在处理大规模数据和高维数据时表现较好，但训练时间相对较长。\n",
    "- **决策树** 简单易懂，但容易过拟合，需要谨慎调参。\n",
    "- **特征子集选择** 可以提高模型训练效率和解释性，但需要注意信息损失的问题。\n",
    "\n",
    "选择合适的方法取决于数据特征、问题要求、训练时间和模型解释性等因素。"
   ]
  }
 ],
 "metadata": {
  "kaggle": {
   "accelerator": "none",
   "dataSources": [
    {
     "datasetId": 4977751,
     "sourceId": 8372719,
     "sourceType": "datasetVersion"
    }
   ],
   "dockerImageVersionId": 30698,
   "isGpuEnabled": false,
   "isInternetEnabled": true,
   "language": "python",
   "sourceType": "notebook"
  },
  "kernelspec": {
   "display_name": "Python 3 (ipykernel)",
   "language": "python",
   "name": "python3"
  },
  "language_info": {
   "codemirror_mode": {
    "name": "ipython",
    "version": 3
   },
   "file_extension": ".py",
   "mimetype": "text/x-python",
   "name": "python",
   "nbconvert_exporter": "python",
   "pygments_lexer": "ipython3",
   "version": "3.11.5"
  },
  "papermill": {
   "default_parameters": {},
   "duration": 90.942042,
   "end_time": "2024-05-14T02:52:07.749708",
   "environment_variables": {},
   "exception": null,
   "input_path": "__notebook__.ipynb",
   "output_path": "__notebook__.ipynb",
   "parameters": {},
   "start_time": "2024-05-14T02:50:36.807666",
   "version": "2.5.0"
  }
 },
 "nbformat": 4,
 "nbformat_minor": 5
}
